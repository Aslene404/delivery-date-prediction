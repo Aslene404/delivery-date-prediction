{
 "cells": [
  {
   "cell_type": "code",
   "execution_count": null,
   "id": "b2986a90",
   "metadata": {},
   "outputs": [],
   "source": [
    "#importing dataset\n",
    "\n",
    "import pandas as pd\n",
    "dx=pd.read_excel('Dropex-Wardenine-Final_fake.xlsx')"
   ]
  },
  {
   "cell_type": "code",
   "execution_count": null,
   "id": "12356f1d",
   "metadata": {},
   "outputs": [],
   "source": [
    "# Choosing only Date arrivée from y\n",
    "y = dx ['Date arrivée']\n",
    "y = pd.to_datetime(y)\n",
    "y"
   ]
  },
  {
   "cell_type": "code",
   "execution_count": null,
   "id": "98c1bd8e",
   "metadata": {},
   "outputs": [],
   "source": [
    "#Choosing only Date and Governorate from X\n",
    "\n",
    "X = dx.drop(columns=['Refernce','COD','Name','Address','Mobile','Remarque','Date arrivée'])"
   ]
  },
  {
   "cell_type": "code",
   "execution_count": null,
   "id": "64f53b4b",
   "metadata": {},
   "outputs": [],
   "source": [
    "#Encoding Categorical Features\n",
    "\n",
    "from sklearn.preprocessing import LabelEncoder\n",
    "import numpy as np\n",
    "enc = LabelEncoder()\n",
    "y = enc.fit_transform(y)\n",
    "X['Date'] = pd.to_datetime(X['Date']).view(np.int64)\n",
    "X['Governorate']=enc.fit_transform(X['Governorate'])\n",
    "X"
   ]
  },
  {
   "cell_type": "code",
   "execution_count": null,
   "id": "cd4ca5df",
   "metadata": {},
   "outputs": [],
   "source": [
    "#Training And Test Data\n",
    "\n",
    "from sklearn.model_selection import train_test_split\n",
    "X_train, X_test, y_train, y_test = train_test_split(X,y)\n"
   ]
  },
  {
   "cell_type": "code",
   "execution_count": null,
   "id": "b18c719b",
   "metadata": {},
   "outputs": [],
   "source": [
    "#Standardization\n",
    "\n",
    "from sklearn.preprocessing import StandardScaler\n",
    "scaler = StandardScaler().fit(X_train)\n",
    "standardized_X = scaler.transform(X_train)\n",
    "standardized_X_test = scaler.transform(X_test)"
   ]
  },
  {
   "cell_type": "code",
   "execution_count": null,
   "id": "a2581c13",
   "metadata": {},
   "outputs": [],
   "source": [
    "#Normalization\n",
    "\n",
    "from sklearn.preprocessing import Normalizer\n",
    "scaler = Normalizer().fit(X_train)\n",
    "normalized_X = scaler.transform(X_train)\n",
    "normalized_X_test = scaler.transform(X_test)"
   ]
  },
  {
   "cell_type": "code",
   "execution_count": null,
   "id": "d1a6f7b7",
   "metadata": {},
   "outputs": [],
   "source": [
    "#Binarization*\n",
    "\n",
    "from sklearn.preprocessing import Binarizer\n",
    "binarizer = Binarizer(threshold=0.0).fit(X)\n",
    "binary_X = binarizer.transform(X)"
   ]
  },
  {
   "cell_type": "code",
   "execution_count": null,
   "id": "a7c1b189",
   "metadata": {},
   "outputs": [],
   "source": [
    "#Generating Polynomial Features\n",
    "\n",
    "from sklearn.preprocessing import PolynomialFeatures\n",
    "poly = PolynomialFeatures(5)\n",
    "poly.fit_transform(X)"
   ]
  },
  {
   "cell_type": "code",
   "execution_count": null,
   "id": "3aedadbe",
   "metadata": {},
   "outputs": [],
   "source": [
    "#Linear Regression\n",
    "\n",
    "from sklearn.linear_model import LinearRegression\n",
    "lr = LinearRegression(normalize=True)"
   ]
  },
  {
   "cell_type": "code",
   "execution_count": null,
   "id": "7449d390",
   "metadata": {},
   "outputs": [],
   "source": [
    "#Supervised Learning Estimators\n",
    "\n",
    "#Support Vector Machines (SVM)\n",
    "from sklearn.svm import SVC\n",
    "svc = SVC(kernel='linear')\n",
    "\n",
    "#Naive Bayes\n",
    "from sklearn.naive_bayes import GaussianNB\n",
    "gnb = GaussianNB()\n",
    "\n",
    "#KNN\n",
    "from sklearn import neighbors\n",
    "knn = neighbors.KNeighborsClassifier(n_neighbors=5)"
   ]
  },
  {
   "cell_type": "code",
   "execution_count": null,
   "id": "edfaaf37",
   "metadata": {},
   "outputs": [],
   "source": [
    "#Unsupervised Learning Estimators\n",
    "\n",
    "#Principal Component Analysis (PCA)\n",
    "\n",
    "from sklearn.decomposition import PCA\n",
    "pca = PCA(n_components=0.95)\n",
    "\n",
    "#K Means\n",
    "\n",
    "from sklearn.cluster import KMeans\n",
    "k_means = KMeans(n_clusters=3, random_state=0)"
   ]
  },
  {
   "cell_type": "code",
   "execution_count": null,
   "id": "ed1f5f36",
   "metadata": {},
   "outputs": [],
   "source": [
    "#Model Fitting | Supervised learning\n",
    "\n",
    "lr.fit(X, y)\n",
    "knn.fit(X_train, y_train)\n",
    "# svc.fit(X_train, y_train)\n",
    "# gnb.fit(X_train, y_train)"
   ]
  },
  {
   "cell_type": "code",
   "execution_count": null,
   "id": "0001e431",
   "metadata": {},
   "outputs": [],
   "source": [
    "#Model Fitting | Unsupervised learning\n",
    "\n",
    "k_means.fit(X_train)\n",
    "pca_model = pca.fit_transform(X_train)"
   ]
  },
  {
   "cell_type": "code",
   "execution_count": null,
   "id": "de48692f",
   "metadata": {},
   "outputs": [],
   "source": [
    "#Prediction | Supervised Estimators\n",
    "\n",
    "import numpy as np\n",
    "# y_pred_svc = svc.predict(np.random.random((1,2)))\n",
    "y_pred_lr = lr.predict(X_test)\n",
    "y_pred_knn = knn.predict_proba(X_test)"
   ]
  },
  {
   "cell_type": "code",
   "execution_count": null,
   "id": "462537e4",
   "metadata": {
    "scrolled": true
   },
   "outputs": [],
   "source": [
    "#Prediction | unSupervised Estimators\n",
    "\n",
    "y_pred = k_means.predict(X_test)\n"
   ]
  },
  {
   "cell_type": "code",
   "execution_count": null,
   "id": "a1bd9622",
   "metadata": {},
   "outputs": [],
   "source": [
    "#Evaluating Performance | Accuracy Score\n",
    "\n",
    "knn.score(X_test, y_test)\n",
    "from sklearn.metrics import accuracy_score\n",
    "accuracy_score(y_test, y_pred)"
   ]
  },
  {
   "cell_type": "code",
   "execution_count": null,
   "id": "7021c03c",
   "metadata": {},
   "outputs": [],
   "source": [
    "from sklearn.tree import DecisionTreeClassifier\n",
    "from datetime import datetime\n",
    "\n",
    "model=DecisionTreeClassifier()\n",
    "model.fit(X_train,y_train)\n",
    "predictions= model.predict(X_test)\n",
    "score = accuracy_score(y_test,predictions)\n",
    "score\n",
    "\n",
    "\n"
   ]
  },
  {
   "cell_type": "code",
   "execution_count": null,
   "id": "339f2d6b",
   "metadata": {},
   "outputs": [],
   "source": [
    "val = input(\"Enter your Governorate : \")\n",
    "val_date=input(\"Enter your Order date and time 'dd/mm/yyyy hh:mm' : \")\n",
    "\n",
    "date_time_obj = datetime.strptime(val_date, '%d/%m/%Y %H:%M')\n",
    "val_date=np.datetime64(date_time_obj).view(np.int64)\n",
    "val_date=str(val_date)\n",
    "val_date=val_date+\"000\"\n",
    "val_date=int(val_date)\n",
    "\n",
    "print(val_date)\n",
    "\n",
    "options = {\"Ariana\" :1 ,\n",
    "           \"Beja\" :2 ,\n",
    "           \"Ben Arous\" :3 ,\n",
    "           \"Bizerte\" :4 ,\n",
    "           \"Gabes\" :5 ,\n",
    "           \"Gafsa\" :6 ,\n",
    "           \"Jendouba\" :7 ,\n",
    "           \"Kairouan\" :8 ,\n",
    "           \"Tunis\" :9 ,\n",
    "           \"Zaghouan\" :10 ,\n",
    "           \"Kasserine\" :11 ,\n",
    "           \"Kébili\" :12 ,\n",
    "           \"Le Kef\" :13 ,\n",
    "           \"Mahdia\" :14,\n",
    "           \"La Manouba\" :15 ,\n",
    "           \"Médenine\" :16 ,\n",
    "           \"Monastir\" :17 ,\n",
    "           \"Nabeul\" :18 ,\n",
    "           \"Sfax\" :19 ,\n",
    "          \"Sidi Bouzid\" :20,\n",
    "           \"Siliana\" :21 ,\n",
    "           \"Sousse\" :22 ,\n",
    "           \"Tataouine\" :23 ,\n",
    "           \"Tozeur\" :24 }\n",
    "\n",
    "gov=options[val]\n",
    "predictions= model.predict([ [val_date,gov] ])\n",
    "predictions\n"
   ]
  }
 ],
 "metadata": {
  "kernelspec": {
   "display_name": "Python 3 (ipykernel)",
   "language": "python",
   "name": "python3"
  },
  "language_info": {
   "codemirror_mode": {
    "name": "ipython",
    "version": 3
   },
   "file_extension": ".py",
   "mimetype": "text/x-python",
   "name": "python",
   "nbconvert_exporter": "python",
   "pygments_lexer": "ipython3",
   "version": "3.9.7"
  }
 },
 "nbformat": 4,
 "nbformat_minor": 5
}
