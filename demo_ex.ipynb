{
 "cells": [
  {
   "cell_type": "code",
   "execution_count": 19,
   "id": "b2986a90",
   "metadata": {},
   "outputs": [],
   "source": [
    "#importing dataset\n",
    "\n",
    "import pandas as pd\n",
    "dx=pd.read_excel('Dropex-Wardenine-Final_fake.xlsx')"
   ]
  },
  {
   "cell_type": "code",
   "execution_count": 20,
   "id": "12356f1d",
   "metadata": {},
   "outputs": [
    {
     "data": {
      "text/plain": [
       "0      2021-05-07 14:51:00\n",
       "1      2021-05-07 15:22:00\n",
       "2      2021-05-10 12:48:00\n",
       "3      2021-05-09 12:49:00\n",
       "4      2021-05-09 12:51:00\n",
       "               ...        \n",
       "1527   2022-01-14 13:03:00\n",
       "1528   2022-01-15 13:08:00\n",
       "1529   2022-01-15 13:10:00\n",
       "1530   2022-01-16 13:12:00\n",
       "1531   2022-01-20 15:31:00\n",
       "Name: Date arrivée, Length: 1532, dtype: datetime64[ns]"
      ]
     },
     "execution_count": 20,
     "metadata": {},
     "output_type": "execute_result"
    }
   ],
   "source": [
    "# Choosing only Date arrivée from y\n",
    "y = dx ['Date arrivée']\n",
    "y = pd.to_datetime(y)\n",
    "y"
   ]
  },
  {
   "cell_type": "code",
   "execution_count": 21,
   "id": "98c1bd8e",
   "metadata": {},
   "outputs": [],
   "source": [
    "#Choosing only Date and Governorate from X\n",
    "\n",
    "X = dx.drop(columns=['Refernce','COD','Name','Address','Mobile','Remarque','Date arrivée'])"
   ]
  },
  {
   "cell_type": "code",
   "execution_count": 22,
   "id": "64f53b4b",
   "metadata": {},
   "outputs": [
    {
     "data": {
      "text/html": [
       "<div>\n",
       "<style scoped>\n",
       "    .dataframe tbody tr th:only-of-type {\n",
       "        vertical-align: middle;\n",
       "    }\n",
       "\n",
       "    .dataframe tbody tr th {\n",
       "        vertical-align: top;\n",
       "    }\n",
       "\n",
       "    .dataframe thead th {\n",
       "        text-align: right;\n",
       "    }\n",
       "</style>\n",
       "<table border=\"1\" class=\"dataframe\">\n",
       "  <thead>\n",
       "    <tr style=\"text-align: right;\">\n",
       "      <th></th>\n",
       "      <th>Date</th>\n",
       "      <th>Governorate</th>\n",
       "    </tr>\n",
       "  </thead>\n",
       "  <tbody>\n",
       "    <tr>\n",
       "      <th>0</th>\n",
       "      <td>1620312660000000000</td>\n",
       "      <td>12</td>\n",
       "    </tr>\n",
       "    <tr>\n",
       "      <th>1</th>\n",
       "      <td>1620314520000000000</td>\n",
       "      <td>13</td>\n",
       "    </tr>\n",
       "    <tr>\n",
       "      <th>2</th>\n",
       "      <td>1620478080000000000</td>\n",
       "      <td>22</td>\n",
       "    </tr>\n",
       "    <tr>\n",
       "      <th>3</th>\n",
       "      <td>1620478140000000000</td>\n",
       "      <td>19</td>\n",
       "    </tr>\n",
       "    <tr>\n",
       "      <th>4</th>\n",
       "      <td>1620478260000000000</td>\n",
       "      <td>12</td>\n",
       "    </tr>\n",
       "    <tr>\n",
       "      <th>...</th>\n",
       "      <td>...</td>\n",
       "      <td>...</td>\n",
       "    </tr>\n",
       "    <tr>\n",
       "      <th>1527</th>\n",
       "      <td>1642078980000000000</td>\n",
       "      <td>22</td>\n",
       "    </tr>\n",
       "    <tr>\n",
       "      <th>1528</th>\n",
       "      <td>1642165680000000000</td>\n",
       "      <td>22</td>\n",
       "    </tr>\n",
       "    <tr>\n",
       "      <th>1529</th>\n",
       "      <td>1642165800000000000</td>\n",
       "      <td>16</td>\n",
       "    </tr>\n",
       "    <tr>\n",
       "      <th>1530</th>\n",
       "      <td>1642165920000000000</td>\n",
       "      <td>15</td>\n",
       "    </tr>\n",
       "    <tr>\n",
       "      <th>1531</th>\n",
       "      <td>1642433460000000000</td>\n",
       "      <td>7</td>\n",
       "    </tr>\n",
       "  </tbody>\n",
       "</table>\n",
       "<p>1532 rows × 2 columns</p>\n",
       "</div>"
      ],
      "text/plain": [
       "                     Date  Governorate\n",
       "0     1620312660000000000           12\n",
       "1     1620314520000000000           13\n",
       "2     1620478080000000000           22\n",
       "3     1620478140000000000           19\n",
       "4     1620478260000000000           12\n",
       "...                   ...          ...\n",
       "1527  1642078980000000000           22\n",
       "1528  1642165680000000000           22\n",
       "1529  1642165800000000000           16\n",
       "1530  1642165920000000000           15\n",
       "1531  1642433460000000000            7\n",
       "\n",
       "[1532 rows x 2 columns]"
      ]
     },
     "execution_count": 22,
     "metadata": {},
     "output_type": "execute_result"
    }
   ],
   "source": [
    "#Encoding Categorical Features\n",
    "\n",
    "from sklearn.preprocessing import LabelEncoder\n",
    "import numpy as np\n",
    "enc = LabelEncoder()\n",
    "y = enc.fit_transform(y)\n",
    "X['Date'] = pd.to_datetime(X['Date']).view(np.int64)\n",
    "X['Governorate']=enc.fit_transform(X['Governorate'])\n",
    "X"
   ]
  },
  {
   "cell_type": "code",
   "execution_count": 23,
   "id": "cd4ca5df",
   "metadata": {},
   "outputs": [],
   "source": [
    "#Training And Test Data\n",
    "\n",
    "from sklearn.model_selection import train_test_split\n",
    "X_train, X_test, y_train, y_test = train_test_split(X,y)\n"
   ]
  },
  {
   "cell_type": "code",
   "execution_count": 24,
   "id": "b18c719b",
   "metadata": {},
   "outputs": [],
   "source": [
    "#Standardization\n",
    "\n",
    "from sklearn.preprocessing import StandardScaler\n",
    "scaler = StandardScaler().fit(X_train)\n",
    "standardized_X = scaler.transform(X_train)\n",
    "standardized_X_test = scaler.transform(X_test)"
   ]
  },
  {
   "cell_type": "code",
   "execution_count": 25,
   "id": "a2581c13",
   "metadata": {},
   "outputs": [],
   "source": [
    "#Normalization\n",
    "\n",
    "from sklearn.preprocessing import Normalizer\n",
    "scaler = Normalizer().fit(X_train)\n",
    "normalized_X = scaler.transform(X_train)\n",
    "normalized_X_test = scaler.transform(X_test)"
   ]
  },
  {
   "cell_type": "code",
   "execution_count": 26,
   "id": "d1a6f7b7",
   "metadata": {},
   "outputs": [],
   "source": [
    "#Binarization*\n",
    "\n",
    "from sklearn.preprocessing import Binarizer\n",
    "binarizer = Binarizer(threshold=0.0).fit(X)\n",
    "binary_X = binarizer.transform(X)"
   ]
  },
  {
   "cell_type": "code",
   "execution_count": 27,
   "id": "a7c1b189",
   "metadata": {},
   "outputs": [
    {
     "data": {
      "text/plain": [
       "array([[1.00000000e+00, 1.62031266e+18, 1.20000000e+01, ...,\n",
       "        4.53671386e+39, 3.35988033e+22, 2.48832000e+05],\n",
       "       [1.00000000e+00, 1.62031452e+18, 1.30000000e+01, ...,\n",
       "        5.76804586e+39, 4.62778030e+22, 3.71293000e+05],\n",
       "       [1.00000000e+00, 1.62047808e+18, 2.20000000e+01, ...,\n",
       "        2.79611072e+40, 3.79606713e+23, 5.15363200e+06],\n",
       "       ...,\n",
       "       [1.00000000e+00, 1.64216580e+18, 1.60000000e+01, ...,\n",
       "        1.10457181e+40, 1.07620978e+23, 1.04857600e+06],\n",
       "       [1.00000000e+00, 1.64216592e+18, 1.50000000e+01, ...,\n",
       "        9.10139257e+39, 8.31346497e+22, 7.59375000e+05],\n",
       "       [1.00000000e+00, 1.64243346e+18, 7.00000000e+00, ...,\n",
       "        9.25272571e+38, 3.94348274e+21, 1.68070000e+04]])"
      ]
     },
     "execution_count": 27,
     "metadata": {},
     "output_type": "execute_result"
    }
   ],
   "source": [
    "#Generating Polynomial Features\n",
    "\n",
    "from sklearn.preprocessing import PolynomialFeatures\n",
    "poly = PolynomialFeatures(5)\n",
    "poly.fit_transform(X)"
   ]
  },
  {
   "cell_type": "code",
   "execution_count": 28,
   "id": "3aedadbe",
   "metadata": {},
   "outputs": [],
   "source": [
    "#Linear Regression\n",
    "\n",
    "from sklearn.linear_model import LinearRegression\n",
    "lr = LinearRegression(normalize=True)"
   ]
  },
  {
   "cell_type": "code",
   "execution_count": 29,
   "id": "7449d390",
   "metadata": {},
   "outputs": [],
   "source": [
    "#Supervised Learning Estimators\n",
    "\n",
    "#Support Vector Machines (SVM)\n",
    "from sklearn.svm import SVC\n",
    "svc = SVC(kernel='linear')\n",
    "\n",
    "#Naive Bayes\n",
    "from sklearn.naive_bayes import GaussianNB\n",
    "gnb = GaussianNB()\n",
    "\n",
    "#KNN\n",
    "from sklearn import neighbors\n",
    "knn = neighbors.KNeighborsClassifier(n_neighbors=5)"
   ]
  },
  {
   "cell_type": "code",
   "execution_count": 30,
   "id": "edfaaf37",
   "metadata": {},
   "outputs": [],
   "source": [
    "#Unsupervised Learning Estimators\n",
    "\n",
    "#Principal Component Analysis (PCA)\n",
    "\n",
    "from sklearn.decomposition import PCA\n",
    "pca = PCA(n_components=0.95)\n",
    "\n",
    "#K Means\n",
    "\n",
    "from sklearn.cluster import KMeans\n",
    "k_means = KMeans(n_clusters=3, random_state=0)"
   ]
  },
  {
   "cell_type": "code",
   "execution_count": 31,
   "id": "ed1f5f36",
   "metadata": {},
   "outputs": [
    {
     "data": {
      "text/plain": [
       "KNeighborsClassifier()"
      ]
     },
     "execution_count": 31,
     "metadata": {},
     "output_type": "execute_result"
    }
   ],
   "source": [
    "#Model Fitting | Supervised learning\n",
    "\n",
    "lr.fit(X, y)\n",
    "knn.fit(X_train, y_train)\n",
    "# svc.fit(X_train, y_train)\n",
    "# gnb.fit(X_train, y_train)"
   ]
  },
  {
   "cell_type": "code",
   "execution_count": 32,
   "id": "0001e431",
   "metadata": {},
   "outputs": [],
   "source": [
    "#Model Fitting | Unsupervised learning\n",
    "\n",
    "k_means.fit(X_train)\n",
    "pca_model = pca.fit_transform(X_train)"
   ]
  },
  {
   "cell_type": "code",
   "execution_count": 33,
   "id": "de48692f",
   "metadata": {},
   "outputs": [],
   "source": [
    "#Prediction | Supervised Estimators\n",
    "\n",
    "import numpy as np\n",
    "# y_pred_svc = svc.predict(np.random.random((1,2)))\n",
    "y_pred_lr = lr.predict(X_test)\n",
    "y_pred_knn = knn.predict_proba(X_test)"
   ]
  },
  {
   "cell_type": "code",
   "execution_count": 34,
   "id": "462537e4",
   "metadata": {
    "scrolled": true
   },
   "outputs": [],
   "source": [
    "#Prediction | unSupervised Estimators\n",
    "\n",
    "y_pred = k_means.predict(X_test)\n"
   ]
  },
  {
   "cell_type": "code",
   "execution_count": 35,
   "id": "a1bd9622",
   "metadata": {},
   "outputs": [],
   "source": [
    "#Evaluating Performance | Accuracy Score\n",
    "\n",
    "# knn.score(X_test, y_test)\n",
    "# from sklearn.metrics import accuracy_score\n",
    "# accuracy_score(y_test, y_pred_knn)"
   ]
  },
  {
   "cell_type": "code",
   "execution_count": 36,
   "id": "7021c03c",
   "metadata": {},
   "outputs": [
    {
     "data": {
      "text/plain": [
       "0.9765013054830287"
      ]
     },
     "execution_count": 36,
     "metadata": {},
     "output_type": "execute_result"
    }
   ],
   "source": [
    "from sklearn.tree import DecisionTreeClassifier\n",
    "from datetime import datetime\n",
    "\n",
    "model=DecisionTreeClassifier()\n",
    "model.fit(X_train,y_train)\n",
    "predictions= model.predict(X_test)\n",
    "score = accuracy_score(y_test,predictions)\n",
    "score\n",
    "\n",
    "\n"
   ]
  },
  {
   "cell_type": "code",
   "execution_count": 77,
   "id": "fb5f0565",
   "metadata": {},
   "outputs": [
    {
     "ename": "NameError",
     "evalue": "name 'df' is not defined",
     "output_type": "error",
     "traceback": [
      "\u001b[1;31m---------------------------------------------------------------------------\u001b[0m",
      "\u001b[1;31mNameError\u001b[0m                                 Traceback (most recent call last)",
      "\u001b[1;32m~\\AppData\\Local\\Temp/ipykernel_5704/106831740.py\u001b[0m in \u001b[0;36m<module>\u001b[1;34m\u001b[0m\n\u001b[0;32m      3\u001b[0m \u001b[1;32mimport\u001b[0m \u001b[0mmath\u001b[0m\u001b[1;33m\u001b[0m\u001b[1;33m\u001b[0m\u001b[0m\n\u001b[0;32m      4\u001b[0m \u001b[0msns\u001b[0m\u001b[1;33m.\u001b[0m\u001b[0mset\u001b[0m\u001b[1;33m(\u001b[0m\u001b[0mrc\u001b[0m \u001b[1;33m=\u001b[0m \u001b[1;33m{\u001b[0m\u001b[1;34m'figure.figsize'\u001b[0m\u001b[1;33m:\u001b[0m\u001b[1;33m(\u001b[0m\u001b[1;36m19\u001b[0m\u001b[1;33m,\u001b[0m\u001b[1;36m9\u001b[0m\u001b[1;33m)\u001b[0m\u001b[1;33m}\u001b[0m\u001b[1;33m)\u001b[0m\u001b[1;33m\u001b[0m\u001b[1;33m\u001b[0m\u001b[0m\n\u001b[1;32m----> 5\u001b[1;33m \u001b[0mp\u001b[0m \u001b[1;33m=\u001b[0m \u001b[0msns\u001b[0m\u001b[1;33m.\u001b[0m\u001b[0mlineplot\u001b[0m\u001b[1;33m(\u001b[0m\u001b[0mdata\u001b[0m \u001b[1;33m=\u001b[0m \u001b[0mdf\u001b[0m\u001b[1;33m)\u001b[0m\u001b[1;33m\u001b[0m\u001b[1;33m\u001b[0m\u001b[0m\n\u001b[0m\u001b[0;32m      6\u001b[0m \u001b[0mplt\u001b[0m\u001b[1;33m.\u001b[0m\u001b[0mset_xlabel\u001b[0m\u001b[1;33m(\u001b[0m\u001b[1;34m\"Gouvernate\"\u001b[0m\u001b[1;33m,\u001b[0m \u001b[0mfontsize\u001b[0m \u001b[1;33m=\u001b[0m \u001b[1;36m20\u001b[0m\u001b[1;33m)\u001b[0m\u001b[1;33m\u001b[0m\u001b[1;33m\u001b[0m\u001b[0m\n\u001b[0;32m      7\u001b[0m \u001b[0mplt\u001b[0m\u001b[1;33m.\u001b[0m\u001b[0mset_ylabel\u001b[0m\u001b[1;33m(\u001b[0m\u001b[1;34m\"Number of deliveries\"\u001b[0m\u001b[1;33m,\u001b[0m \u001b[0mfontsize\u001b[0m \u001b[1;33m=\u001b[0m \u001b[1;36m20\u001b[0m\u001b[1;33m)\u001b[0m\u001b[1;33m\u001b[0m\u001b[1;33m\u001b[0m\u001b[0m\n",
      "\u001b[1;31mNameError\u001b[0m: name 'df' is not defined"
     ]
    }
   ],
   "source": [
    "import matplotlib.pyplot as plt\n",
    "import seaborn as sns\n",
    "import math\n",
    "sns.set(rc = {'figure.figsize':(19,9)})\n",
    "p = sns.lineplot(data = df)\n",
    "plt.set_xlabel(\"Gouvernate\", fontsize = 20)\n",
    "plt.set_ylabel(\"Number of deliveries\", fontsize = 20)\n",
    "# sns.countplot(x=\"Governorate\",data=dx)\n",
    "sns.countplot(x=\"Governorate\",hue=\"del\",data=dx)\n",
    "\n"
   ]
  },
  {
   "cell_type": "code",
   "execution_count": null,
   "id": "339f2d6b",
   "metadata": {},
   "outputs": [],
   "source": [
    "val = input(\"Enter your Governorate : \")\n",
    "val_date=input(\"Enter your Order date and time 'dd/mm/yyyy hh:mm' : \")\n",
    "\n",
    "date_time_obj = datetime.strptime(val_date, '%d/%m/%Y %H:%M')\n",
    "val_date=np.datetime64(date_time_obj).view(np.int64)\n",
    "val_date=str(val_date)\n",
    "val_date=val_date+\"000\"\n",
    "val_date=int(val_date)\n",
    "\n",
    "print(val_date)\n",
    "\n",
    "options = {\"Ariana\" :1 ,\n",
    "           \"Beja\" :2 ,\n",
    "           \"Ben Arous\" :3 ,\n",
    "           \"Bizerte\" :4 ,\n",
    "           \"Gabes\" :5 ,\n",
    "           \"Gafsa\" :6 ,\n",
    "           \"Jendouba\" :7 ,\n",
    "           \"Kairouan\" :8 ,\n",
    "           \"Tunis\" :9 ,\n",
    "           \"Zaghouan\" :10 ,\n",
    "           \"Kasserine\" :11 ,\n",
    "           \"Kébili\" :12 ,\n",
    "           \"Le Kef\" :13 ,\n",
    "           \"Mahdia\" :14,\n",
    "           \"La Manouba\" :15 ,\n",
    "           \"Médenine\" :16 ,\n",
    "           \"Monastir\" :17 ,\n",
    "           \"Nabeul\" :18 ,\n",
    "           \"Sfax\" :19 ,\n",
    "          \"Sidi Bouzid\" :20,\n",
    "           \"Siliana\" :21 ,\n",
    "           \"Sousse\" :22 ,\n",
    "           \"Tataouine\" :23 ,\n",
    "           \"Tozeur\" :24 }\n",
    "\n",
    "gov=options[val]\n",
    "predictions= model.predict([ [val_date,gov] ])\n",
    "predictions\n"
   ]
  }
 ],
 "metadata": {
  "kernelspec": {
   "display_name": "Python 3 (ipykernel)",
   "language": "python",
   "name": "python3"
  },
  "language_info": {
   "codemirror_mode": {
    "name": "ipython",
    "version": 3
   },
   "file_extension": ".py",
   "mimetype": "text/x-python",
   "name": "python",
   "nbconvert_exporter": "python",
   "pygments_lexer": "ipython3",
   "version": "3.9.7"
  }
 },
 "nbformat": 4,
 "nbformat_minor": 5
}
