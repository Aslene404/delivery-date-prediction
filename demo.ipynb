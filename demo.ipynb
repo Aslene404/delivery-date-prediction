{
 "cells": [
  {
   "cell_type": "code",
   "execution_count": 15,
   "id": "3b1e0446",
   "metadata": {},
   "outputs": [],
   "source": [
    "import pandas as pd\n",
    "import numpy as np\n",
    "from datetime import datetime\n",
    "import pandas as pd\n",
    "\n",
    "from random import choice\n",
    "\n",
    "from sklearn.model_selection import train_test_split\n",
    "from sklearn.tree import DecisionTreeClassifier\n",
    "from sklearn import preprocessing\n",
    "from sklearn.metrics import accuracy_score\n",
    "from sklearn.preprocessing import OneHotEncoder \n",
    "\n",
    "import joblib\n",
    "\n",
    "\n",
    "dx=pd.read_excel('Dropex-Wardenine-Final_fake.xlsx')\n"
   ]
  },
  {
   "cell_type": "code",
   "execution_count": 16,
   "id": "118e5ebe",
   "metadata": {},
   "outputs": [
    {
     "data": {
      "text/plain": [
       "0      2021-05-07 14:51:00\n",
       "1      2021-05-07 15:22:00\n",
       "2      2021-05-10 12:48:00\n",
       "3      2021-05-09 12:49:00\n",
       "4      2021-05-09 12:51:00\n",
       "               ...        \n",
       "1527   2022-01-14 13:03:00\n",
       "1528   2022-01-15 13:08:00\n",
       "1529   2022-01-15 13:10:00\n",
       "1530   2022-01-16 13:12:00\n",
       "1531   2022-01-20 15:31:00\n",
       "Name: Date arrivée, Length: 1532, dtype: datetime64[ns]"
      ]
     },
     "execution_count": 16,
     "metadata": {},
     "output_type": "execute_result"
    }
   ],
   "source": [
    "y = dx ['Date arrivée']\n",
    "y = pd.to_datetime(y)\n",
    "y"
   ]
  },
  {
   "cell_type": "code",
   "execution_count": 17,
   "id": "3e184f91",
   "metadata": {},
   "outputs": [
    {
     "data": {
      "text/html": [
       "<div>\n",
       "<style scoped>\n",
       "    .dataframe tbody tr th:only-of-type {\n",
       "        vertical-align: middle;\n",
       "    }\n",
       "\n",
       "    .dataframe tbody tr th {\n",
       "        vertical-align: top;\n",
       "    }\n",
       "\n",
       "    .dataframe thead th {\n",
       "        text-align: right;\n",
       "    }\n",
       "</style>\n",
       "<table border=\"1\" class=\"dataframe\">\n",
       "  <thead>\n",
       "    <tr style=\"text-align: right;\">\n",
       "      <th></th>\n",
       "      <th>Date</th>\n",
       "      <th>Governorate</th>\n",
       "    </tr>\n",
       "  </thead>\n",
       "  <tbody>\n",
       "    <tr>\n",
       "      <th>0</th>\n",
       "      <td>1620312660000000000</td>\n",
       "      <td>14</td>\n",
       "    </tr>\n",
       "    <tr>\n",
       "      <th>1</th>\n",
       "      <td>1620314520000000000</td>\n",
       "      <td>17</td>\n",
       "    </tr>\n",
       "    <tr>\n",
       "      <th>2</th>\n",
       "      <td>1620478080000000000</td>\n",
       "      <td>9</td>\n",
       "    </tr>\n",
       "    <tr>\n",
       "      <th>3</th>\n",
       "      <td>1620478140000000000</td>\n",
       "      <td>22</td>\n",
       "    </tr>\n",
       "    <tr>\n",
       "      <th>4</th>\n",
       "      <td>1620478260000000000</td>\n",
       "      <td>14</td>\n",
       "    </tr>\n",
       "    <tr>\n",
       "      <th>...</th>\n",
       "      <td>...</td>\n",
       "      <td>...</td>\n",
       "    </tr>\n",
       "    <tr>\n",
       "      <th>1527</th>\n",
       "      <td>1642078980000000000</td>\n",
       "      <td>9</td>\n",
       "    </tr>\n",
       "    <tr>\n",
       "      <th>1528</th>\n",
       "      <td>1642165680000000000</td>\n",
       "      <td>9</td>\n",
       "    </tr>\n",
       "    <tr>\n",
       "      <th>1529</th>\n",
       "      <td>1642165800000000000</td>\n",
       "      <td>19</td>\n",
       "    </tr>\n",
       "    <tr>\n",
       "      <th>1530</th>\n",
       "      <td>1642165920000000000</td>\n",
       "      <td>18</td>\n",
       "    </tr>\n",
       "    <tr>\n",
       "      <th>1531</th>\n",
       "      <td>1642433460000000000</td>\n",
       "      <td>8</td>\n",
       "    </tr>\n",
       "  </tbody>\n",
       "</table>\n",
       "<p>1532 rows × 2 columns</p>\n",
       "</div>"
      ],
      "text/plain": [
       "                     Date  Governorate\n",
       "0     1620312660000000000           14\n",
       "1     1620314520000000000           17\n",
       "2     1620478080000000000            9\n",
       "3     1620478140000000000           22\n",
       "4     1620478260000000000           14\n",
       "...                   ...          ...\n",
       "1527  1642078980000000000            9\n",
       "1528  1642165680000000000            9\n",
       "1529  1642165800000000000           19\n",
       "1530  1642165920000000000           18\n",
       "1531  1642433460000000000            8\n",
       "\n",
       "[1532 rows x 2 columns]"
      ]
     },
     "execution_count": 17,
     "metadata": {},
     "output_type": "execute_result"
    }
   ],
   "source": [
    "X = dx.drop(columns=['Refernce','COD','Name','Address','Mobile','Remarque','Date arrivée'])\n",
    "cleanup_nums = {\"Governorate\":     \n",
    "                {\"Ariana\": 1, \"Beja\": 2, \"Ben Arous\": 3, \"Bizerte\": 4, \"Gabes\": 5, \"Gafsa\": 6, \"Jendouba\": 7, \"Kairouan\": 8, \"Tunis\": 9, \"Zaghouan\": 10, \"Kasserine\": 11, \"Kébili\": 12, \"Le Kef\": 13, \"Mahdia\": 14, \"La Manouba\": 15, \"Médenine\": 16, \"Monastir\": 17, \"Nabeul\": 18, \"Sfax\": 19, \"Sidi Bouzid\": 20, \"Siliana\": 21, \"Sousse\": 22, \"Tataouine\": 23, \"Tozeur\": 24}}\n",
    "\n",
    "X=X.replace(cleanup_nums)\n",
    "#X['COD'] = X['COD'].astype(np.int64)\n",
    "X['Date'] = pd.to_datetime(X['Date']).view(np.int64)\n",
    "X"
   ]
  },
  {
   "cell_type": "code",
   "execution_count": 18,
   "id": "bcebfb3b",
   "metadata": {},
   "outputs": [],
   "source": [
    "X_train,X_test,y_train,y_test=train_test_split(X,y,test_size=0.7)\n"
   ]
  },
  {
   "cell_type": "code",
   "execution_count": 19,
   "id": "67580026",
   "metadata": {},
   "outputs": [
    {
     "data": {
      "text/plain": [
       "0.6234855545200373"
      ]
     },
     "execution_count": 19,
     "metadata": {},
     "output_type": "execute_result"
    }
   ],
   "source": [
    "model=DecisionTreeClassifier()\n",
    "model.fit(X_train,y_train)\n",
    "#joblib.dump(model,\"recommender.joblib\")\n",
    "#joblib.load(model,\"recommender.joblib\")\n",
    "predictions= model.predict(X_test)\n",
    "predictions\n",
    "score = accuracy_score(y_test,predictions)\n",
    "score\n"
   ]
  },
  {
   "cell_type": "code",
   "execution_count": 20,
   "id": "6078a894",
   "metadata": {},
   "outputs": [
    {
     "name": "stdout",
     "output_type": "stream",
     "text": [
      "Enter your Governorate : Tunis\n",
      "Enter your Order date and time 'dd/mm/yyyy hh:mm' : 18/10/2022 15:30\n",
      "1666107000000000000\n"
     ]
    }
   ],
   "source": [
    "\n",
    "val = input(\"Enter your Governorate : \")\n",
    "val_date=input(\"Enter your Order date and time 'dd/mm/yyyy hh:mm' : \")\n",
    "\n",
    "date_time_obj = datetime.strptime(val_date, '%d/%m/%Y %H:%M')\n",
    "val_date=np.datetime64(date_time_obj).view(np.int64)\n",
    "val_date=str(val_date)\n",
    "val_date=val_date+\"000\"\n",
    "val_date=int(val_date)\n",
    "\n",
    "print(val_date)\n",
    "\n",
    "options = {\"Ariana\" :1 ,\n",
    "           \"Beja\" :2 ,\n",
    "           \"Ben Arous\" :3 ,\n",
    "           \"Bizerte\" :4 ,\n",
    "           \"Gabes\" :5 ,\n",
    "           \"Gafsa\" :6 ,\n",
    "           \"Jendouba\" :7 ,\n",
    "           \"Kairouan\" :8 ,\n",
    "           \"Tunis\" :9 ,\n",
    "           \"Zaghouan\" :10 ,\n",
    "           \"Kasserine\" :11 ,\n",
    "           \"Kébili\" :12 ,\n",
    "           \"Le Kef\" :13 ,\n",
    "           \"Mahdia\" :14,\n",
    "           \"La Manouba\" :15 ,\n",
    "           \"Médenine\" :16 ,\n",
    "           \"Monastir\" :17 ,\n",
    "           \"Nabeul\" :18 ,\n",
    "           \"Sfax\" :19 ,\n",
    "          \"Sidi Bouzid\" :20,\n",
    "           \"Siliana\" :21 ,\n",
    "           \"Sousse\" :22 ,\n",
    "           \"Tataouine\" :23 ,\n",
    "           \"Tozeur\" :24 }\n",
    "\n",
    "gov=options[val]"
   ]
  },
  {
   "cell_type": "code",
   "execution_count": 21,
   "id": "e41b7451",
   "metadata": {},
   "outputs": [
    {
     "data": {
      "text/plain": [
       "array(['2022-01-16T13:12:00.000000000'], dtype='datetime64[ns]')"
      ]
     },
     "execution_count": 21,
     "metadata": {},
     "output_type": "execute_result"
    }
   ],
   "source": [
    "model=DecisionTreeClassifier()\n",
    "model.fit(X_train,y_train)\n",
    "predictions= model.predict([ [val_date,gov] ])\n",
    "predictions"
   ]
  }
 ],
 "metadata": {
  "kernelspec": {
   "display_name": "Python 3 (ipykernel)",
   "language": "python",
   "name": "python3"
  },
  "language_info": {
   "codemirror_mode": {
    "name": "ipython",
    "version": 3
   },
   "file_extension": ".py",
   "mimetype": "text/x-python",
   "name": "python",
   "nbconvert_exporter": "python",
   "pygments_lexer": "ipython3",
   "version": "3.9.7"
  }
 },
 "nbformat": 4,
 "nbformat_minor": 5
}
